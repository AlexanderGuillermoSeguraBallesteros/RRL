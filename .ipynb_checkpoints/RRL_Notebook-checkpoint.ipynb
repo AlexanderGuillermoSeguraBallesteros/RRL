{
 "cells": [
  {
   "cell_type": "code",
   "execution_count": null,
   "metadata": {
    "collapsed": false
   },
   "outputs": [],
   "source": [
    "from UtilityFunctions import  GetReturns\n",
    "from CoreFunctions_v6 import ObjectiveFunction\n",
    "from CoreFunctions_v6 import GradientFunctionM\n",
    "from CoreFunctions_v6 import  train\n",
    "from CoreFunctions_v6 import ComputeF\n",
    "from CoreFunctions_v6 import RewardFunction\n",
    "from CoreFunctions_v6 import SharpeRatio\n",
    "from UtilityFunctions import FeatureNormalize"
   ]
  },
  {
   "cell_type": "code",
   "execution_count": null,
   "metadata": {
    "collapsed": false
   },
   "outputs": [],
   "source": [
    "import numpy as np\n",
    "import pandas as pd\n",
    "\n",
    "import scipy as sp"
   ]
  },
  {
   "cell_type": "code",
   "execution_count": null,
   "metadata": {
    "collapsed": false
   },
   "outputs": [],
   "source": []
  },
  {
   "cell_type": "code",
   "execution_count": null,
   "metadata": {
    "collapsed": true
   },
   "outputs": [],
   "source": [
    "    "
   ]
  }
 ],
 "metadata": {
  "anaconda-cloud": {},
  "kernelspec": {
   "display_name": "Python [conda env:py35RL]",
   "language": "python",
   "name": "conda-env-py35RL-py"
  },
  "language_info": {
   "codemirror_mode": {
    "name": "ipython",
    "version": 3
   },
   "file_extension": ".py",
   "mimetype": "text/x-python",
   "name": "python",
   "nbconvert_exporter": "python",
   "pygments_lexer": "ipython3",
   "version": "3.5.2"
  }
 },
 "nbformat": 4,
 "nbformat_minor": 1
}
